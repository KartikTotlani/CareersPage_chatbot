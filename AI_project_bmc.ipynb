{
  "nbformat": 4,
  "nbformat_minor": 0,
  "metadata": {
    "colab": {
      "provenance": [],
      "authorship_tag": "ABX9TyMDOR5YVvdSHJ3V1nWlITcp",
      "include_colab_link": true
    },
    "kernelspec": {
      "name": "python3",
      "display_name": "Python 3"
    },
    "language_info": {
      "name": "python"
    }
  },
  "cells": [
    {
      "cell_type": "markdown",
      "metadata": {
        "id": "view-in-github",
        "colab_type": "text"
      },
      "source": [
        "<a href=\"https://colab.research.google.com/github/KartikTotlani/CareersPage_chatbot/blob/main/AI_project_bmc.ipynb\" target=\"_parent\"><img src=\"https://colab.research.google.com/assets/colab-badge.svg\" alt=\"Open In Colab\"/></a>"
      ]
    },
    {
      "cell_type": "code",
      "execution_count": null,
      "metadata": {
        "id": "FIrNd5bp68R9"
      },
      "outputs": [],
      "source": [
        "from nltk.chat.util import Chat, reflections"
      ]
    },
    {
      "cell_type": "code",
      "source": [
        "pairs = [\n",
        "    [\n",
        "        r\"my name is (.*)\",\n",
        "        [\"Hello %1, welcome to the BMC Software support! How can I assist you today?\"]\n",
        "    ],\n",
        "    [\n",
        "        r\"(.*)help(.*)\",\n",
        "        [\"I'm here to assist you with any queries related to our products, services, support, and more. How can I help?\"]\n",
        "    ],\n",
        "    [\n",
        "        r\"what is your name?\",\n",
        "        [\"I’m the official assistant for BMC Software. Feel free to call me your support guide! How can I assist you today?\"]\n",
        "    ],\n",
        "    [\n",
        "        r\"how are you?\",\n",
        "        [\"I'm here and ready to help you with any questions you have about BMC Software. How can I assist you today?\", \"I'm doing great and here to support you with information about BMC Software.\"]\n",
        "    ],\n",
        "    [\n",
        "        r\"i'm (good|well|okay|ok|yes|yeah|yup) (.*)\",\n",
        "        [\"Great to hear that! How can I assist you with any questions about BMC Software or our services?\", \"Awesome! What information can I help you with today regarding BMC Software?\"]\n",
        "    ],\n",
        "    [\n",
        "        r\"(hi|hey|hello|hola|holla|olla)(.*)\",\n",
        "        [\"Hello there! How can I assist you with information about BMC Software?\", \"Hey! How can I help you with details about our products and services today?\", \"Hey there! 👋 How can I assist you today? Whether it's about BMC Software’s solutions or company info, I'm here to help!\"]\n",
        "    ],\n",
        "    [\n",
        "        r\"what do you offer?\",\n",
        "        [\"BMC Software provides IT management solutions, including IT service management (ITSM), cloud management, and performance management. Would you like more details on a specific product or service?\",\n",
        "         \"We offer a range of solutions such as ITSM, automation, and cloud management. What interests you? [https://www.bmc.com/]]\"]\n",
        "    ],\n",
        "    [\n",
        "        r\"who created you?\",\n",
        "        [\"I was developed by BMC Software to assist visitors with information about our products and services.\"]\n",
        "    ],\n",
        "    [\n",
        "        r\"(product|service|solution)\",\n",
        "        [\"BMC offers a variety of products including BMC Helix, BMC Remedy, and BMC TrueSight.\"\n",
        "        \"Which product or service would you like to know more about? [https://www.bmc.com/it-solutions/products-all.html]\",\n",
        "         \"Our solutions include ITSM, cloud management, and automation. Let me know if you need details on a specific solution. [https://www.bmc.com/it-solutions/products-all.html]\"]\n",
        "    ],\n",
        "    [\n",
        "        r\"(location|headquarters|office)\",\n",
        "        [\"BMC Software is headquartered in Houston, Texas. Would you like information on our global offices or contact details?\",\n",
        "         \"Our main office is located in Houston, TX. If you need details on our other locations, just let me know!\"]\n",
        "    ],\n",
        "    [\n",
        "        r\"events\",\n",
        "        [\"We host various events and webinars related to IT management and our solutions. Would you like to know about upcoming events or webinars? [https://bmcconnect.bmc.com/]\",\n",
        "         \"Check our website for information on upcoming events and webinars to stay updated with BMC Software. [https://bmcconnect.bmc.com/], [https://www.bmc.com/webinars.html] and [https://www.bmc.com/events.html]\"]\n",
        "    ],\n",
        "    [\n",
        "        r\"(support|helpdesk|customer service)\",\n",
        "        [\"Our support team is available to assist you with any issues or questions you may have. Would you like to know about our support options or how to contact us? [Add link here]\", \"We offer various support services. If you need assistance, I can provide information on how to reach our helpdesk or access resources. [https://www.bmc.com/contacts-locations/worldwide.html]\"]\n",
        "    ],\n",
        "    [\n",
        "        r\"pricing|fees\",\n",
        "        [\"For detailed information on pricing and fees for our products and services, please visit our website or contact our sales team for a quote tailored to your needs. [https://www.bmc.com/], [https://www.bmc.com/forms/pricing-request.html]\",\n",
        "         \"Pricing details can vary based on the solutions and services. Would you like to be directed to our pricing page or get in touch with a sales representative? [https://www.bmc.com/contacts-locations/worldwide.html], [https://www.bmc.com/forms/pricing-request.html]\"]\n",
        "    ],\n",
        "    [\n",
        "        r\"company|about\",\n",
        "        [\"BMC Software is a global leader in IT management solutions. We focus on delivering innovative solutions for IT operations and service management. Would you like more details about our company or history? [https://www.bmc.com/corporate/about-bmc-software.html]\",\n",
        "         \"BMC Software specializes in IT management solutions and has been a key player in the industry for many years. Let me know if you need more information about our company background. [https://www.bmc.com/corporate/about-bmc-software.html]\"]\n",
        "    ],\n",
        "    [\n",
        "        r\"connected digital ops\",\n",
        "        [\"Connected Digital Ops enable Autonomous Digital Enterprises to optimize and accelerate innovation. This includes AIOps, AutonomousOps, DataOps, DevOps, and ServiceOps. Would you like more information? [https://www.bmc.com/it-solutions/products.html]\"]\n",
        "    ],\n",
        "    [\n",
        "        r\"featured topics\",\n",
        "        [\"BMC covers various topics such as Artificial Intelligence, Automation & Orchestration, and Building a Digital Workplace. Which topic would you like to explore? [https://www.bmc.com/resource-center.html#&sortCriteria=recommended&category=rc]\"]\n",
        "    ],\n",
        "    [\n",
        "        r\"technologies\",\n",
        "        [\"We support multiple technologies, including AWS, Google Cloud, Oracle Cloud, and Mainframe. Do you need specific information on one of these? [https://www.bmc.com/]\"]\n",
        "    ],\n",
        "    [\n",
        "        r\"industries\",\n",
        "        [\"BMC Software serves various industries, including Financial Services, Healthcare, Manufacturing, Public Sector, and Telecommunications. Which industry are you interested in? [https://www.bmc.com/]\"]\n",
        "    ],\n",
        "    [\n",
        "        r\"featured products\",\n",
        "        [\"Some of our featured products include Enterprise Service Management, IT Service Management, and AI-Powered Business Workflows. Which product would you like to learn more about? [https://www.bmc.com/it-solutions/products-all.html]\"]\n",
        "    ],\n",
        "    [\n",
        "        r\"partners\",\n",
        "        [\"We have a strong partnership network, including programs for locating partners, becoming a BMC partner, and accessing partner resources. How can I assist you with our partnerships? [https://www.bmc.com/partners/partner-resources.html]\"]\n",
        "    ],\n",
        "    [\n",
        "        r\"developers\",\n",
        "        [\"BMC offers resources for developers, including community support, integrations, and jobs-as-code with Control-M. Would you like more information on these resources? [https://www.bmc.com/it-solutions/control-m-integrations.html#&sortCriteria=recommended&category=mp]\"]\n",
        "    ],\n",
        "    [\n",
        "        r\"about bmc\",\n",
        "        [\"BMC Software focuses on IT management solutions and aims to help enterprises become Autonomous Digital Enterprises. Would you like to learn more about our mission and values? [https://www.bmc.com/corporate/about-bmc-software.html]\"]\n",
        "    ],\n",
        "    [\n",
        "        r\"(support|services)\",\n",
        "        [\"Our support services include a wide range of offerings, including Technical Advisory Service, Mainframe Services, and Deployment Services. How can I assist you with our support services? [https://www.bmc.com/support/support-central.html#/dashboard]\"]\n",
        "    ],\n",
        "    [\n",
        "        r\"education\",\n",
        "        [\"BMC offers various educational resources, including certifications, mainframe education, and online learning through BMC Academy. Would you like to explore these options? [https://www.bmc.com/education/training-and-certification.html]\"]\n",
        "    ],\n",
        "    [\n",
        "        r\"quit\",\n",
        "        [\"It was nice assisting you. If you have more questions, feel free to return anytime!\", \"Goodbye! I hope I could help you. Have a great day!\"]\n",
        "    ],\n",
        "    [\n",
        "        r\"(.*)\",\n",
        "        [\"I didn’t quite catch that. Could you please clarify what information you're looking for?\", \"I'm here to help! Could you provide more details about your question?\"]\n",
        "    ],\n",
        "]\n"
      ],
      "metadata": {
        "id": "ixsKMFSM7Cbd"
      },
      "execution_count": null,
      "outputs": []
    },
    {
      "cell_type": "code",
      "source": [
        "print(reflections)"
      ],
      "metadata": {
        "colab": {
          "base_uri": "https://localhost:8080/"
        },
        "id": "4pI75qUr7wDj",
        "outputId": "6b1eafe4-7333-47a1-e878-66a3eece54e8"
      },
      "execution_count": null,
      "outputs": [
        {
          "output_type": "stream",
          "name": "stdout",
          "text": [
            "{'i am': 'you are', 'i was': 'you were', 'i': 'you', \"i'm\": 'you are', \"i'd\": 'you would', \"i've\": 'you have', \"i'll\": 'you will', 'my': 'your', 'you are': 'I am', 'you were': 'I was', \"you've\": 'I have', \"you'll\": 'I will', 'your': 'my', 'yours': 'mine', 'you': 'me', 'me': 'you'}\n"
          ]
        }
      ]
    },
    {
      "cell_type": "code",
      "source": [
        "#default message at the start of chat\n",
        "print(\"Hi, I'm Assistant of BMC Software, How can I help you? \\nPlease type lowercase English language to start a conversation. Type quit to leave \")\n",
        "#Create Chat Bot\n",
        "chat = Chat(pairs, reflections)"
      ],
      "metadata": {
        "colab": {
          "base_uri": "https://localhost:8080/"
        },
        "id": "i9DnvPFp7wjy",
        "outputId": "7105d809-8761-4f1d-97e8-104c868e1d70"
      },
      "execution_count": null,
      "outputs": [
        {
          "output_type": "stream",
          "name": "stdout",
          "text": [
            "Hi, I'm Assistant of BMC Software, How can I help you? \n",
            "Please type lowercase English language to start a conversation. Type quit to leave \n"
          ]
        }
      ]
    },
    {
      "cell_type": "code",
      "source": [
        "chat.converse()"
      ],
      "metadata": {
        "colab": {
          "base_uri": "https://localhost:8080/"
        },
        "id": "RWbhfNbz8OG7",
        "outputId": "dbe450d7-4cdb-4aa7-c56c-b3d30debc605"
      },
      "execution_count": null,
      "outputs": [
        {
          "output_type": "stream",
          "name": "stdout",
          "text": [
            ">hi\n",
            "Hey! How can I help you with details about our products and services today?\n",
            ">about\n",
            "BMC Software specializes in IT management solutions and has been a key player in the industry for many years. Let me know if you need more information about our company background. [https://www.bmc.com/corporate/about-bmc-software.html]\n",
            ">products\n",
            "BMC offers a variety of products including BMC Helix, BMC Remedy, and BMC TrueSight.Which product or service would you like to know more about? [https://www.bmc.com/it-solutions/products-all.html]\n",
            ">partners\n",
            "We have a strong partnership network, including programs for locating partners, becoming a BMC partner, and accessing partner resources. How can I assist you with our partnerships? [https://www.bmc.com/partners/partner-resources.html]\n",
            ">solutions\n",
            "BMC offers a variety of products including BMC Helix, BMC Remedy, and BMC TrueSight.Which product or service would you like to know more about? [https://www.bmc.com/it-solutions/products-all.html]\n",
            ">contact\n",
            "I didn’t quite catch that. Could you please clarify what information you're looking for?\n",
            ">support\n",
            "We offer various support services. If you need assistance, I can provide information on how to reach our helpdesk or access resources. [https://www.bmc.com/contacts-locations/worldwide.html]\n",
            ">careers\n",
            "I didn’t quite catch that. Could you please clarify what information you're looking for?\n",
            ">education\n",
            "BMC offers various educational resources, including certifications, mainframe education, and online learning through BMC Academy. Would you like to explore these options? [https://www.bmc.com/education/training-and-certification.html]\n",
            ">location\n",
            "Our main office is located in Houston, TX. If you need details on our other locations, just let me know!\n",
            ">pricing\n",
            "For detailed information on pricing and fees for our products and services, please visit our website or contact our sales team for a quote tailored to your needs. [https://www.bmc.com/], [https://www.bmc.com/forms/pricing-request.html]\n",
            ">resources\n",
            "I didn’t quite catch that. Could you please clarify what information you're looking for?\n",
            ">events\n",
            "Check our website for information on upcoming events and webinars to stay updated with BMC Software. [https://bmcconnect.bmc.com/], [https://www.bmc.com/webinars.html] and [https://www.bmc.com/events.html]\n",
            ">webinars\n",
            "I'm here to help! Could you provide more details about your question?\n",
            ">internship\n",
            "I'm here to help! Could you provide more details about your question?\n",
            ">what?\n",
            "I'm here to help! Could you provide more details about your question?\n",
            ">ok\n",
            "I'm here to help! Could you provide more details about your question?\n",
            ">bmc\n",
            "I didn’t quite catch that. Could you please clarify what information you're looking for?\n",
            ">solutions\n",
            "Our solutions include ITSM, cloud management, and automation. Let me know if you need details on a specific solution. [https://www.bmc.com/it-solutions/products-all.html]\n",
            ">technologies\n",
            "We support multiple technologies, including AWS, Google Cloud, Oracle Cloud, and Mainframe. Do you need specific information on one of these? [https://www.bmc.com/]\n",
            ">services\n",
            "BMC offers a variety of products including BMC Helix, BMC Remedy, and BMC TrueSight.Which product or service would you like to know more about? [https://www.bmc.com/it-solutions/products-all.html]\n",
            ">thank you\n",
            "I'm here to help! Could you provide more details about your question?\n",
            ">who created you\n",
            "I was developed by BMC Software to assist visitors with information about our products and services.\n",
            ">help\n",
            "I'm here to assist you with any queries related to our products, services, support, and more. How can I help?\n",
            ">nice\n",
            "I didn’t quite catch that. Could you please clarify what information you're looking for?\n",
            ">quit\n",
            "It was nice assisting you. If you have more questions, feel free to return anytime!\n"
          ]
        }
      ]
    },
    {
      "cell_type": "code",
      "source": [],
      "metadata": {
        "id": "k5x5xof68RLL"
      },
      "execution_count": null,
      "outputs": []
    }
  ]
}